{
 "cells": [
  {
   "cell_type": "markdown",
   "id": "eddc6bd5-be96-4822-87ed-0bc19f961bfa",
   "metadata": {},
   "source": [
    "# Advent of Code 2023¶\n",
    "\n",
    "https://adventofcode.com/"
   ]
  },
  {
   "cell_type": "markdown",
   "id": "13ab3954-f7c2-499e-8768-9340cfc425aa",
   "metadata": {},
   "source": [
    "## Day 2\n",
    "\n",
    "Task: https://adventofcode.com/2023/day/2\n",
    "\n",
    "Part 1:\n",
    "\n",
    "Which game is possible with only **12 red cubes, 13 green cubes, and 14 blue cubes**? Meaning, find the games with have combinations with less than all three types of cubes. Then sum up the game numbers.\n",
    "\n",
    "- Make groups with split to extract game number and sets\n",
    "- Compare number in each set with highest possible number by color\n",
    "\n",
    "Regex operators: https://docs.python.org/3/library/re.html#match-objects"
   ]
  },
  {
   "cell_type": "code",
   "execution_count": 37,
   "id": "f3f03484-03b8-4109-bfcb-b9bc6a793f92",
   "metadata": {},
   "outputs": [
    {
     "name": "stdout",
     "output_type": "stream",
     "text": [
      "2406\n"
     ]
    }
   ],
   "source": [
    "import re\n",
    "\n",
    "result = 0\n",
    "\n",
    "def condition(red, green, blue):\n",
    "    if red <= 12 and green <= 13 and blue <= 14:\n",
    "        return True\n",
    "    else:\n",
    "        return False\n",
    "\n",
    "with open('02_cubes.txt', 'r') as infile:\n",
    "    with open('cubes.txt', 'w') as outfile:\n",
    "        for line in infile:\n",
    "            outfile.write(line.replace('Game ', '').replace(':', ';'))\n",
    "\n",
    "with open('cubes.txt', 'r') as cubes:\n",
    "    for line in cubes:\n",
    "        \n",
    "        # Create lists where each game is list of sets:\n",
    "        lists = line.split(\";\")\n",
    "                \n",
    "        # Extract game number that gets added up to result:\n",
    "        game = lists[0]\n",
    "                \n",
    "        # Extraxt numbers for each color:\n",
    "        for s in lists[1:]:\n",
    "            matchred = re.search('\\d+(?= red)', s)             # matches number if followed by \" red\"\n",
    "            if matchred != None:\n",
    "                red = int(matchred.group(0))\n",
    "            else:\n",
    "                red = 0\n",
    "                        \n",
    "            matchgreen = re.search('\\d+(?= green)', s)\n",
    "            if matchgreen != None:\n",
    "                green = int(matchgreen.group(0))\n",
    "            else:\n",
    "                green = 0\n",
    "                        \n",
    "            matchblue = re.search('\\d+(?= blue)', s)\n",
    "            if matchblue != None:\n",
    "                blue = int(matchblue.group(0))\n",
    "            else:\n",
    "                blue = 0\n",
    "                        \n",
    "            if condition(red, green, blue) == False:\n",
    "                game = 0\n",
    "            \n",
    "        result += int(game)\n",
    "     \n",
    "    print(result)\n"
   ]
  },
  {
   "cell_type": "markdown",
   "id": "0b7665b1-e603-48fc-90bd-5a22773d7e54",
   "metadata": {},
   "source": [
    "Part 2:\n",
    "\n",
    "- Find the minimum number of cubes for each color for each game.\n",
    "- Build the power (multiplying the minimum numbers) per game and add them up"
   ]
  },
  {
   "cell_type": "code",
   "execution_count": 10,
   "id": "8183ae37-c114-4077-924b-3f7d33468b97",
   "metadata": {
    "tags": []
   },
   "outputs": [
    {
     "name": "stdout",
     "output_type": "stream",
     "text": [
      "78375\n"
     ]
    }
   ],
   "source": [
    "import re\n",
    "\n",
    "result = 0\n",
    "\n",
    "with open('02_cubes.txt', 'r') as infile:\n",
    "    with open('cubes.txt', 'w') as outfile:\n",
    "        for line in infile:\n",
    "            outfile.write(line.replace('Game ', '').replace(':', ';'))\n",
    "\n",
    "with open('cubes.txt', 'r') as cubes:\n",
    "    for line in cubes:\n",
    "        \n",
    "        # Create lists where each game is list of sets:\n",
    "        lists = line.split(\";\")\n",
    "          \n",
    "        # Extraxt numbers for each color:\n",
    "        r = []\n",
    "        b = []\n",
    "        g = []\n",
    "        for s in lists[1:]:\n",
    "            matchred = re.search('\\d+(?= red)', s)             # matches number if followed by \" red\"\n",
    "            if matchred != None:\n",
    "                red = int(matchred.group(0))\n",
    "            else:\n",
    "                red = 0\n",
    "            r.append(red)\n",
    "                        \n",
    "            matchgreen = re.search('\\d+(?= green)', s)\n",
    "            if matchgreen != None:\n",
    "                green = int(matchgreen.group(0))\n",
    "            else:\n",
    "                green = 0\n",
    "            g.append(green)\n",
    "                        \n",
    "            matchblue = re.search('\\d+(?= blue)', s)\n",
    "            if matchblue != None:\n",
    "                blue = int(matchblue.group(0))\n",
    "            else:\n",
    "                blue = 0\n",
    "            b.append(blue)\n",
    "        \n",
    "        #print(r)\n",
    "        maxred = max(r)\n",
    "        #print(maxred)\n",
    "        maxblue = max(b)\n",
    "        maxgreen = max(g)\n",
    "            \n",
    "        power = maxred * maxblue * maxgreen\n",
    "            \n",
    "        result += power\n",
    "     \n",
    "    print(result)\n"
   ]
  },
  {
   "cell_type": "code",
   "execution_count": null,
   "id": "cb3e75ec-584f-48b6-a3cf-50b53cdac6d4",
   "metadata": {},
   "outputs": [],
   "source": []
  }
 ],
 "metadata": {
  "kernelspec": {
   "display_name": "Python 3 (ipykernel)",
   "language": "python",
   "name": "python3"
  },
  "language_info": {
   "codemirror_mode": {
    "name": "ipython",
    "version": 3
   },
   "file_extension": ".py",
   "mimetype": "text/x-python",
   "name": "python",
   "nbconvert_exporter": "python",
   "pygments_lexer": "ipython3",
   "version": "3.11.5"
  }
 },
 "nbformat": 4,
 "nbformat_minor": 5
}
