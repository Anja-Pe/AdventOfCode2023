{
 "cells": [
  {
   "cell_type": "markdown",
   "id": "eea578c4-d451-4275-85f7-aebdf90f5dfe",
   "metadata": {},
   "source": [
    "# Advent of Code 2023\n",
    "\n",
    "https://adventofcode.com/"
   ]
  },
  {
   "cell_type": "markdown",
   "id": "26bae248-7ff9-42d0-9b6b-872fadaa8579",
   "metadata": {},
   "source": [
    "## Day 1\n",
    "\n",
    "Task: https://adventofcode.com/2023/day/1\n",
    "\n",
    "Part 1:\n",
    "\n",
    "Find the first and last digit in each line of text and extract them as a two-digit number, then sum up all two-digit numbers."
   ]
  },
  {
   "cell_type": "code",
   "execution_count": 68,
   "id": "8e2236b2-4b2b-4f47-9f54-450a20d3cbaa",
   "metadata": {
    "tags": []
   },
   "outputs": [
    {
     "name": "stdout",
     "output_type": "stream",
     "text": [
      "53080\n"
     ]
    }
   ],
   "source": [
    "import re\n",
    "\n",
    "calibration = open(\"01_calibration.txt\", 'r')\n",
    "result = 0\n",
    "\n",
    "for line in calibration.readlines():\n",
    "    num = re.findall(r'\\d', line)\n",
    "    twodigit = num[0] + num[-1]\n",
    "    result += int(twodigit)\n",
    "\n",
    "print(result)"
   ]
  },
  {
   "cell_type": "markdown",
   "id": "f8fbf751-cfe2-41a5-ba0a-5cab5e323892",
   "metadata": {},
   "source": [
    "Part 2:\n",
    "\n",
    "Some numbers are spelled out. Extract them as digits and then repeat part 1.\n",
    "!!! Spelled out numbers overlap, so cannot be replaced, only matched!!!"
   ]
  },
  {
   "cell_type": "code",
   "execution_count": 2,
   "id": "48b8ece7-f9dc-4527-969a-b4dbd78c72d6",
   "metadata": {
    "tags": []
   },
   "outputs": [],
   "source": [
    "import re\n",
    "\n",
    "calibration = open(\"01_calibration.txt\", 'r')\n",
    "secondresult = 0\n",
    "\n",
    "for line in calibration.readlines():\n",
    "    a = re.match(\"eight\", line)\n",
    "\n",
    "\n",
    "\n"
   ]
  },
  {
   "cell_type": "code",
   "execution_count": null,
   "id": "89c1a579-4d76-46f9-9b8e-3d95986d379c",
   "metadata": {},
   "outputs": [],
   "source": []
  }
 ],
 "metadata": {
  "kernelspec": {
   "display_name": "Python 3 (ipykernel)",
   "language": "python",
   "name": "python3"
  },
  "language_info": {
   "codemirror_mode": {
    "name": "ipython",
    "version": 3
   },
   "file_extension": ".py",
   "mimetype": "text/x-python",
   "name": "python",
   "nbconvert_exporter": "python",
   "pygments_lexer": "ipython3",
   "version": "3.11.5"
  }
 },
 "nbformat": 4,
 "nbformat_minor": 5
}
